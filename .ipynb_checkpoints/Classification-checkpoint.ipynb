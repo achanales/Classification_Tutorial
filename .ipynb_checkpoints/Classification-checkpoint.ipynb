{
 "cells": [
  {
   "cell_type": "markdown",
   "metadata": {},
   "source": [
    "## Goal of Script\n",
    "\n",
    "#### To learn how to extract fMRI signal for classification and run a simple classification problem. This tutorial will run a decoding pipeline on image localizer data to decode the image category (face, scene, or object) from brain activitiy."
   ]
  },
  {
   "cell_type": "markdown",
   "metadata": {},
   "source": [
    "**Dataset**: For this script we will use the localizer data from the Priority study. Each subject has 2 localizer runs. Each run consisted of 5s mini-blocks of 4 different categories (faces, scenes, objects, scrambled objects).   "
   ]
  },
  {
   "cell_type": "code",
   "execution_count": 2,
   "metadata": {},
   "outputs": [
    {
     "name": "stdout",
     "output_type": "stream",
     "text": [
      "Populating the interactive namespace from numpy and matplotlib\n"
     ]
    }
   ],
   "source": [
    "import warnings\n",
    "import sys \n",
    "if not sys.warnoptions:\n",
    "    warnings.simplefilter(\"ignore\")\n",
    "import os\n",
    "import os.path as op\n",
    "import glob\n",
    "import hashlib\n",
    "import re\n",
    "import pdb\n",
    "\n",
    "import numpy as np\n",
    "import scipy as sp\n",
    "from scipy import stats\n",
    "from scipy.signal import detrend\n",
    "from scipy.interpolate import interp1d\n",
    "import pandas as pd\n",
    "import nibabel as nib\n",
    "from sklearn.model_selection import PredefinedSplit\n",
    "from sklearn.linear_model import LogisticRegression\n",
    "from sklearn import linear_model\n",
    "from sklearn.externals import joblib\n",
    "from sklearn.metrics import confusion_matrix\n",
    "\n",
    "import seaborn as sns\n",
    "import matplotlib.pyplot as plt\n",
    "import matplotlib as mpl\n",
    "%pylab inline"
   ]
  },
  {
   "cell_type": "markdown",
   "metadata": {},
   "source": [
    "## Initialize variables"
   ]
  },
  {
   "cell_type": "markdown",
   "metadata": {},
   "source": [
    "To run classification you will need at least 1 brain mask saved as .nii.gz file in the masks dir. For this tutorial we will be classifying the image category (face, scene, or object) from the ventral temporal cortex (VTC). This mask is provided. You will also need a csv design file saved in the design directory named after the classification \"problem\" to be solved. A design file should contain at least 3 columns: a \"run\" column that specifies the the run number. A \"condition\" column that specifies the condition (class) label. The classification alogrithm will classify over the unique labels provided in this column. And an \"onset\" column that specifies the time (in seconds) of the onset of each trial relative to the start of the run. A design file named \"localizer_category\" is provided that labels the condition (face/scene/object) and onsets for the two localizer runs. \n",
    "\n",
    "To perform classification we have to extract a pattern of activity across the voxels in the region. We will create an average pattern for each trial by averaging over the timepoints of each trial. Since we are running classification on the \"raw\" unmodeled data we have to adjust for the slow hemodynamic response. To do so we will shift the onsets for each trial over by 2 TRs  which should correspond to the peak of the HRF curve (4s after onset). The \"frames\" and \"collapse\" variables control how many TRs to shift and how to weigth the averaging of those TRs. The frames variable should be a vector whose length corresponds to the number of TRs in each trial and the values correspond to how many TRs after onset to shift. The collapse variable shoudl be a vector of the same length as the frames variable that specifies the weights to average over each TR. In this tutorial we will use an equal weighting across TRs. "
   ]
  },
  {
   "cell_type": "code",
   "execution_count": 3,
   "metadata": {},
   "outputs": [],
   "source": [
    "#root directory path and subfolders\n",
    "path = '/Volumes/data/Avi/Classification_Tutorial'\n",
    "\n",
    "masks = ['vtc']\n",
    "problems = ['localizer_category'] #classification problem (should be name of design file)\n",
    "tr = 2\n",
    "frames = np.arange(2, 4)\n",
    "collapse = [1, 1]\n",
    "model = LogisticRegression() #classification model "
   ]
  },
  {
   "cell_type": "markdown",
   "metadata": {},
   "source": [
    "## Extract data for classification"
   ]
  },
  {
   "cell_type": "markdown",
   "metadata": {},
   "source": [
    "We will now construct the dataset for classification. Below is a function \"extract_dataset\" that will extract the data from the specified onsets from each run, shifted to correct for slow HRF, and normalized. "
   ]
  },
  {
   "cell_type": "code",
   "execution_count": 4,
   "metadata": {},
   "outputs": [],
   "source": [
    "def extract_subject(design, bold_files, mask, tr, frames=None,\n",
    "                     event_names=None):\n",
    "    \n",
    "    \"\"\"Extract and normalize data for a subject.\n",
    "\n",
    "    Parameters\n",
    "    ----------\n",
    "    design : event sequence DataFrame\n",
    "        must contain `condition` and `onsets` columns\n",
    "    bold_files : array of strings\n",
    "        path to bold data\n",
    "    mask : 3D boolean array\n",
    "        ROI mask\n",
    "    tr : int\n",
    "        acquistion TR (in seconds)\n",
    "    frames : sequence of ints, optional\n",
    "        extract frames relative to event onsets or at onsets if None\n",
    "    event_names : list of strings\n",
    "        list of condition names to use, otherwise uses sorted unique\n",
    "        values in design.condition\n",
    "\n",
    "    Returns\n",
    "    -------\n",
    "    X :  n_samp x n_feat array\n",
    "        model matrix (zscored by feature)\n",
    "        NOTE: this array can have NaNs; use mask to remove\n",
    "    labels : n_ev vector\n",
    "        target vector\n",
    "    runs : n_ev vector\n",
    "        runs vector\n",
    "\n",
    "    \"\"\"\n",
    "\n",
    "    # initialize outputs\n",
    "    X, labels, use = [], [], []\n",
    "\n",
    "    for r_i, design_r in design.groupby(\"run\"):\n",
    "        print('\\n Loading run %s' %r_i)\n",
    "        bold_data = nib.load(bold_files[int(r_i - 1)]).get_data()\n",
    "\n",
    "        # linear detrend timeseries at each voxel\n",
    "        bold_data = detrend(bold_data)\n",
    "\n",
    "        # Use the basic extractor function\n",
    "        X_i, labels_i, use_i = extract_dataset(design_r, bold_data,\n",
    "                                          mask_data, tr,\n",
    "                                          frames, event_names)\n",
    "\n",
    "        # Just add to list\n",
    "        X.append(X_i)\n",
    "        labels.append(labels_i)\n",
    "        use.append(use_i)\n",
    "\n",
    "    # Find the voxels that are good in every run and make a final mask\n",
    "    good_features = np.all(use, axis=0)\n",
    "    mask_data[mask_data] = good_features\n",
    "\n",
    "    # Concatenate X and labels across runs\n",
    "    X = np.concatenate(X, axis=1)\n",
    "    labels = np.concatenate(labels)\n",
    "    runs = design.run\n",
    "\n",
    "    # Mask out not good features\n",
    "    X = np.atleast_3d(X)[:, :, good_features].squeeze()\n",
    "\n",
    "    # Perform temporal compression by averaging over frames\n",
    "    X = np.average(X, axis=0, weights=collapse)\n",
    "\n",
    "    return X, labels, runs"
   ]
  },
  {
   "cell_type": "code",
   "execution_count": 5,
   "metadata": {},
   "outputs": [],
   "source": [
    "def extract_dataset(design, timeseries, mask, tr, frames=None,\n",
    "                     event_names=None):\n",
    "    \n",
    "    \"\"\"Extract model and targets for single run of fMRI data.\n",
    "\n",
    "    Parameters\n",
    "    ----------\n",
    "    design : event sequence DataFrame\n",
    "        must contain `condition` and `onsets` columns\n",
    "    timeseries : 4D numpy array\n",
    "        BOLD data\n",
    "    mask : 3D boolean array\n",
    "        ROI mask\n",
    "    tr : int\n",
    "        acquistion TR (in seconds)\n",
    "    frames : sequence of ints, optional\n",
    "        extract frames relative to event onsets or at onsets if None\n",
    "    event_names : list of strings\n",
    "        list of condition names to use, otherwise uses sorted unique\n",
    "        values in design.condition\n",
    "\n",
    "    Returns\n",
    "    -------\n",
    "    X : (n_frame) x n_samp x n_feat array\n",
    "        model matrix (zscored by feature)\n",
    "        if n_frame is 1, matrix is 2D\n",
    "        NOTE: this array can have NaNs; use mask to remove\n",
    "    labels : n_ev vector\n",
    "        target vector\n",
    "    mask : n_feat boolean vector\n",
    "        False where the variance for that feature is 0\n",
    "\n",
    "    \"\"\"\n",
    "    # Set up the extraction frames\n",
    "    if frames is None:\n",
    "        frames = [0]\n",
    "    elif not hasattr(frames, \"__len__\"):\n",
    "        frames = [frames]\n",
    "    frames = np.asarray(frames)\n",
    "\n",
    "\n",
    "    # Double check mask datatype\n",
    "    if not mask.dtype == np.bool:\n",
    "        raise ValueError(\"Mask must be boolean array\")\n",
    "\n",
    "    # Initialize the outputs\n",
    "    if event_names is None:\n",
    "        event_names = sorted(design.condition.unique())\n",
    "    else:\n",
    "        design = design[design.condition.isin(event_names)]\n",
    "        event_names = list(event_names)\n",
    "    X = np.zeros((len(frames), design.shape[0], mask.sum()))\n",
    "    labels = design.condition.map(lambda x: event_names.index(x))\n",
    "\n",
    "    mask = mask.squeeze()\n",
    "    \n",
    "    # Extract the ROI into a 2D n_tr x n_feat\n",
    "    roi_data = timeseries[mask].T\n",
    "\n",
    "    print('Number of timpeoints: %d' %roi_data.shape[0])\n",
    "    print('Number of voxels: %d' %roi_data.shape[1])\n",
    "    \n",
    "    # Build the data array\n",
    "    for i, frame in enumerate(frames):\n",
    "        \n",
    "        #convert onsets (s) to tr number\n",
    "        onsets = np.array(design.onset / tr).astype(int)\n",
    "        \n",
    "        #shift tr over by the frame variable to adjust for slow hrf\n",
    "        onsets += int(frame)\n",
    "        \n",
    "        #select data for onsets and normalize (z-score across time)\n",
    "        X[i, ...] = sp.stats.zscore(roi_data[onsets])\n",
    "    \n",
    "    # Find a mask to only use features with nonzero variance\n",
    "    good_features = np.all([(np.var(X_i, axis=0) > 0) for X_i in X], axis=0)\n",
    "\n",
    "    return X.squeeze(), labels, good_features"
   ]
  },
  {
   "cell_type": "markdown",
   "metadata": {},
   "source": [
    "## Run Classification"
   ]
  },
  {
   "cell_type": "markdown",
   "metadata": {},
   "source": [
    "The classification will be run using sci-kit learn's LogisticRegression model. Classification will be run in a cross-validated leave-one-run out manner. Since we have only 2 run this mean the data will be trained on one run and then tested on the other run. There will be two iterations - one for each run. The output of classification will be a n_trials x n_labels vector that will have a probility values for each label for each trial. For each trial the label with the largest probability can be thought of as the classifiers \"guess\" for that trial. "
   ]
  },
  {
   "cell_type": "code",
   "execution_count": 6,
   "metadata": {},
   "outputs": [],
   "source": [
    "def decode_subject(X, labels, runs, model):\n",
    "\n",
    "    \"\"\"Run classification model on subject's data.\n",
    "    \n",
    "    Parameters\n",
    "    ----------\n",
    "    X :  n_samp x n_feat array\n",
    "        model matrix (zscored by feature)\n",
    "        NOTE: this array can have NaNs; use mask to remove\n",
    "    labels : n_ev vector\n",
    "        target vector\n",
    "    runs : n_ev vector\n",
    "        runs vector\n",
    "    model : sci-kit learn model\n",
    "\n",
    "    Returns\n",
    "    -------\n",
    "    scores : array\n",
    "        squeezed array of scores with shape (n_trials)\n",
    "    probs: array\n",
    "        array with log probability estimatesfor each class with shape(n_trails x n_labels)    \n",
    "    choice: array\n",
    "        array with classifiers guess with shape (n_trials)\n",
    "\n",
    "    \"\"\"\n",
    "    \n",
    "\n",
    "    if X.ndim < 3:\n",
    "        X = [X]\n",
    "\n",
    "    # Set up cross validation using leave one run out     \n",
    "    cv_ = PredefinedSplit(runs)\n",
    "\n",
    "    # Find number of labels\n",
    "    num_labels = len(np.unique(labels))\n",
    "\n",
    "    # Cross-validate the model over frames\n",
    "    scores = np.empty((len(X), len(labels)))\n",
    "    probs = np.empty((len(labels), num_labels))\n",
    "    probs_log = np.empty((len(labels), num_labels))\n",
    "    choice = np.empty((len(X), len(labels)))\n",
    "    \n",
    "    print('\\n Running classification')\n",
    "    \n",
    "    # For each dataset\n",
    "    for i, X_i in enumerate(X):\n",
    "    \n",
    "        #For each cross validation iteration\n",
    "        for train, test in cv_.split():\n",
    "        \n",
    "            # Fit model on training set and apply to test data\n",
    "            Tm = model.fit(X_i[train], labels[train]).predict_log_proba(X_i[test]) #log probability\n",
    "\n",
    "            \n",
    "            # Find classifiers \"guess\" by taking the label with the heighest probability \n",
    "            c = np.argmax(Tm, axis=1)\n",
    "        \n",
    "            # See if classifiers guess matched the correct label\n",
    "            ps = c == labels[test]\n",
    "        \n",
    "            choice[i, test] = c\n",
    "            scores[i, test] = ps\n",
    "            acc_subj = ps.mean()\n",
    "            probs[test,:] = Tm\n",
    "            print('cross validation acc: %02f' %acc_subj)\n",
    "            \n",
    "    acc = scores.mean(axis=1)\n",
    "    scores = np.atleast_1d(scores.squeeze())\n",
    "    choice = np.atleast_1d(choice.squeeze())\n",
    "    \n",
    "    print('Average accuracy across cvs: %02f' %acc)\n",
    "    results = dict(acc=acc, scores=scores, probs=probs,choice=choice, event_names=event_names, labels=labels)\n",
    "    return results"
   ]
  },
  {
   "cell_type": "code",
   "execution_count": null,
   "metadata": {},
   "outputs": [
    {
     "name": "stdout",
     "output_type": "stream",
     "text": [
      "\n",
      " Running classification for Priority_fMRI_sub26 problem localizer_category\n",
      "\n",
      " Loading run 1\n",
      "Number of timpeoints: 255\n",
      "Number of voxels: 3276\n",
      "\n",
      " Loading run 2\n",
      "Number of timpeoints: 255\n",
      "Number of voxels: 3276\n",
      "\n",
      " Running classification\n",
      "cross validation acc: 0.800000\n",
      "cross validation acc: 0.866667\n",
      "Average accuracy across cvs: 0.833333\n",
      "\n",
      " Running classification for Priority_fMRI_sub14 problem localizer_category\n",
      "\n",
      " Loading run 1\n",
      "Number of timpeoints: 255\n",
      "Number of voxels: 3471\n",
      "\n",
      " Loading run 2\n",
      "Number of timpeoints: 255\n",
      "Number of voxels: 3471\n",
      "\n",
      " Running classification\n",
      "cross validation acc: 0.716667\n",
      "cross validation acc: 0.916667\n",
      "Average accuracy across cvs: 0.816667\n",
      "\n",
      " Running classification for Priority_fMRI_sub07 problem localizer_category\n",
      "\n",
      " Loading run 1\n",
      "Number of timpeoints: 255\n",
      "Number of voxels: 3912\n",
      "\n",
      " Loading run 2\n"
     ]
    }
   ],
   "source": [
    "## Run Classification for all subjects\n",
    "\n",
    "#get paths to subject directories\n",
    "subdirs = glob.glob('%s/data/Priority_fMRI_sub[0-3][0-9]'%(path))\n",
    "\n",
    "#initialize results dataframe\n",
    "results = []\n",
    "\n",
    "#Loop through each subject and run classification\n",
    "for dir in subdirs:\n",
    "    for i, mask in enumerate(masks):\n",
    "        for j, problem in enumerate(problems):\n",
    "            mask = masks[i]\n",
    "            mvpa_dir = '%s/mvpa' %dir\n",
    "            mask_dir = '%s/roi' %dir\n",
    "            design_dir = '%s/design_files' %dir\n",
    "            \n",
    "            # get subject name\n",
    "            splitdir = dir.split('/')\n",
    "            subj = splitdir[6]\n",
    "            \n",
    "            print('\\n Running classification for %s problem %s' %(subj, problem))\n",
    "    \n",
    "            # Grab bold files\n",
    "            bold_files = glob.glob('%s/functional/loc0[1-2].nii.gz'%dir)\n",
    "            \n",
    "            # Load the event information from the design file\n",
    "            design_file = op.join(design_dir,\"%s.csv\" %problem)\n",
    "            design = pd.read_csv(design_file, header=0)\n",
    "            event_names = sorted(design.condition.unique())\n",
    "            \n",
    "            # Load mask file\n",
    "            mask_file = op.join(mask_dir,\"%s.nii.gz\" %mask)\n",
    "            mask_data = nib.load(mask_file).get_data().astype(bool)\n",
    "\n",
    "\n",
    "            # Extract subject dataset\n",
    "            X, labels, runs = extract_subject(design, bold_files, mask, tr, frames, event_names)\n",
    "            \n",
    "            # Run decoding analysis\n",
    "            ps = decode_subject(X, labels, runs,model)\n",
    "            \n",
    "            # Add results to design file and save csv\n",
    "            results_sub = design\n",
    "            results_sub['choice'] = pd.Series(ps['choice'])\n",
    "            results_sub['hits'] = pd.Series(ps['scores'])  #did the classifier guess correctly \n",
    "            results_sub['mask'] = mask\n",
    "            results_sub['subject'] = subj\n",
    "            results_sub['face_ev'] = pd.Series(ps['probs'][:,0]) #face evidence \n",
    "            results_sub['object_ev'] = pd.Series(ps['probs'][:,1]) #object evidence\n",
    "            results_sub['scene_ev'] = pd.Series(ps['probs'][:,2]) #scene evidence\n",
    "            \n",
    "            \n",
    "            results.append(results_sub)\n",
    "            \n",
    "# Save in concatenated dataframe\n",
    "results = pd.concat(results)"
   ]
  },
  {
   "cell_type": "markdown",
   "metadata": {},
   "source": [
    "## Plot Results"
   ]
  },
  {
   "cell_type": "markdown",
   "metadata": {},
   "source": [
    "We will be using the seaborn package for plotting so first we will need to set up the plotting parameters"
   ]
  },
  {
   "cell_type": "code",
   "execution_count": 7,
   "metadata": {},
   "outputs": [
    {
     "data": {
      "text/plain": [
       "<Figure size 432x288 with 0 Axes>"
      ]
     },
     "metadata": {},
     "output_type": "display_data"
    },
    {
     "data": {
      "text/plain": [
       "<Figure size 720x720 with 0 Axes>"
      ]
     },
     "metadata": {},
     "output_type": "display_data"
    }
   ],
   "source": [
    "import warnings\n",
    "warnings.filterwarnings(\"ignore\", category=DeprecationWarning)\n",
    "warnings.simplefilter(action='ignore', category=FutureWarning)\n",
    "pd.set_option('display.precision', 5)\n",
    "pd.set_option('chained_assignment', None)\n",
    "sns.set_style(\"white\")\n",
    "sns.despine()\n",
    "sns.set(style=\"ticks\", font_scale=1, font='Arial', rc={\"lines.linewidth\": 2,'axes.labelcolor':[0,0,0], 'axes.edgecolor':[0,0,0],\n",
    "'xtick.color':[0,0,0], 'ytick.color':[0,0,0],'text.color':[0,0,0],'axes.linewidth': 2, \"font.size\":13,\"axes.titlesize\":14,\"axes.labelsize\":12,\n",
    "                                                                        \"xtick.labelsize\":12, \"ytick.labelsize\":12})\n",
    "plt.figure(figsize=(10, 10))\n",
    "mpl.rc(\"savefig\", dpi=300)\n",
    "sns.set(style=\"ticks\",context='notebook')"
   ]
  },
  {
   "cell_type": "markdown",
   "metadata": {},
   "source": [
    "Now lets have a look at the first few rows of the results dataframe to make sure the data is saved correctly "
   ]
  },
  {
   "cell_type": "code",
   "execution_count": 8,
   "metadata": {},
   "outputs": [
    {
     "data": {
      "text/html": [
       "<div>\n",
       "<style scoped>\n",
       "    .dataframe tbody tr th:only-of-type {\n",
       "        vertical-align: middle;\n",
       "    }\n",
       "\n",
       "    .dataframe tbody tr th {\n",
       "        vertical-align: top;\n",
       "    }\n",
       "\n",
       "    .dataframe thead th {\n",
       "        text-align: right;\n",
       "    }\n",
       "</style>\n",
       "<table border=\"1\" class=\"dataframe\">\n",
       "  <thead>\n",
       "    <tr style=\"text-align: right;\">\n",
       "      <th></th>\n",
       "      <th>run</th>\n",
       "      <th>condition</th>\n",
       "      <th>onset</th>\n",
       "      <th>choice</th>\n",
       "      <th>hits</th>\n",
       "      <th>mask</th>\n",
       "      <th>subject</th>\n",
       "      <th>face_ev</th>\n",
       "      <th>object_ev</th>\n",
       "      <th>scene_ev</th>\n",
       "    </tr>\n",
       "  </thead>\n",
       "  <tbody>\n",
       "    <tr>\n",
       "      <th>0</th>\n",
       "      <td>1</td>\n",
       "      <td>face</td>\n",
       "      <td>5</td>\n",
       "      <td>scene</td>\n",
       "      <td>0.0</td>\n",
       "      <td>vtc</td>\n",
       "      <td>Priority_fMRI_sub26</td>\n",
       "      <td>-1.73045</td>\n",
       "      <td>-3.74646</td>\n",
       "      <td>-0.22415</td>\n",
       "    </tr>\n",
       "    <tr>\n",
       "      <th>1</th>\n",
       "      <td>1</td>\n",
       "      <td>face</td>\n",
       "      <td>10</td>\n",
       "      <td>object</td>\n",
       "      <td>0.0</td>\n",
       "      <td>vtc</td>\n",
       "      <td>Priority_fMRI_sub26</td>\n",
       "      <td>-0.69989</td>\n",
       "      <td>-0.68823</td>\n",
       "      <td>-7.01923</td>\n",
       "    </tr>\n",
       "    <tr>\n",
       "      <th>2</th>\n",
       "      <td>1</td>\n",
       "      <td>face</td>\n",
       "      <td>15</td>\n",
       "      <td>object</td>\n",
       "      <td>0.0</td>\n",
       "      <td>vtc</td>\n",
       "      <td>Priority_fMRI_sub26</td>\n",
       "      <td>-0.94393</td>\n",
       "      <td>-0.50792</td>\n",
       "      <td>-4.69317</td>\n",
       "    </tr>\n",
       "    <tr>\n",
       "      <th>3</th>\n",
       "      <td>1</td>\n",
       "      <td>scene</td>\n",
       "      <td>20</td>\n",
       "      <td>scene</td>\n",
       "      <td>1.0</td>\n",
       "      <td>vtc</td>\n",
       "      <td>Priority_fMRI_sub26</td>\n",
       "      <td>-10.11611</td>\n",
       "      <td>-1.51447</td>\n",
       "      <td>-0.24842</td>\n",
       "    </tr>\n",
       "    <tr>\n",
       "      <th>4</th>\n",
       "      <td>1</td>\n",
       "      <td>face</td>\n",
       "      <td>25</td>\n",
       "      <td>face</td>\n",
       "      <td>1.0</td>\n",
       "      <td>vtc</td>\n",
       "      <td>Priority_fMRI_sub26</td>\n",
       "      <td>-0.20004</td>\n",
       "      <td>-3.23916</td>\n",
       "      <td>-1.95118</td>\n",
       "    </tr>\n",
       "  </tbody>\n",
       "</table>\n",
       "</div>"
      ],
      "text/plain": [
       "   run condition  onset  choice  hits mask              subject   face_ev  \\\n",
       "0    1      face      5   scene   0.0  vtc  Priority_fMRI_sub26  -1.73045   \n",
       "1    1      face     10  object   0.0  vtc  Priority_fMRI_sub26  -0.69989   \n",
       "2    1      face     15  object   0.0  vtc  Priority_fMRI_sub26  -0.94393   \n",
       "3    1     scene     20   scene   1.0  vtc  Priority_fMRI_sub26 -10.11611   \n",
       "4    1      face     25    face   1.0  vtc  Priority_fMRI_sub26  -0.20004   \n",
       "\n",
       "   object_ev  scene_ev  \n",
       "0   -3.74646  -0.22415  \n",
       "1   -0.68823  -7.01923  \n",
       "2   -0.50792  -4.69317  \n",
       "3   -1.51447  -0.24842  \n",
       "4   -3.23916  -1.95118  "
      ]
     },
     "execution_count": 8,
     "metadata": {},
     "output_type": "execute_result"
    }
   ],
   "source": [
    "choice_dict = {0:'face',1:'object',2:'scene'}\n",
    "results['choice'] = results['choice'].replace(choice_dict)\n",
    "results.head()"
   ]
  },
  {
   "cell_type": "markdown",
   "metadata": {},
   "source": [
    "Now lets plot the results of the classification. First we need to get an average accuracy measure for each subject. "
   ]
  },
  {
   "cell_type": "code",
   "execution_count": 9,
   "metadata": {},
   "outputs": [],
   "source": [
    "results_grouped = results.groupby(['subject','mask']) #group over subject and mask\n",
    "results_avg = pd.DataFrame(results_grouped['hits'].mean()).reset_index() #average hits"
   ]
  },
  {
   "cell_type": "code",
   "execution_count": 15,
   "metadata": {},
   "outputs": [
    {
     "data": {
      "image/png": "[encoded data removed]",
      "text/plain": [
       "<Figure size 360x360 with 1 Axes>"
      ]
     },
     "metadata": {},
     "output_type": "display_data"
    }
   ],
   "source": [
    "f, (ax1) = plt.subplots(1, 1, figsize=(5, 5), sharex=False, sharey =False)\n",
    "\n",
    "sns.stripplot('mask',y='hits',linewidth = 1, data = results_avg, dodge = True,\n",
    "               size = 4,  edgecolor = ['#000000'], jitter = True, palette = ['#909090'], ax = ax1)\n",
    "sns.barplot('mask',y='hits',data =results_avg,\n",
    "              palette = 'deep',ax = ax1)\n",
    "\n",
    "ax1.set(ylabel='Classification Accuracy',xlabel='VTC', xticklabels=[])\n",
    "\n",
    "\n",
    "ax1.legend_ = None\n",
    "sns.despine()"
   ]
  },
  {
   "cell_type": "markdown",
   "metadata": {},
   "source": [
    "Now lets check if there were category differences in classification accuracy"
   ]
  },
  {
   "cell_type": "code",
   "execution_count": 11,
   "metadata": {},
   "outputs": [],
   "source": [
    "results_grouped = results.groupby(['subject','mask','condition']) #group over subject, mask, and condition\n",
    "results_avg = pd.DataFrame(results_grouped['hits'].mean()).reset_index() #average hits"
   ]
  },
  {
   "cell_type": "code",
   "execution_count": 13,
   "metadata": {},
   "outputs": [
    {
     "data": {
      "image/png": "[encoded data removed]",
      "text/plain": [
       "<Figure size 360x360 with 1 Axes>"
      ]
     },
     "metadata": {},
     "output_type": "display_data"
    }
   ],
   "source": [
    "f, (ax1) = plt.subplots(1, 1, figsize=(5, 5), sharex=False, sharey =False)\n",
    "\n",
    "sns.stripplot('mask',y='hits',hue ='condition',linewidth = 1, dodge = True,\n",
    "            data = results_avg, \n",
    "               size = 4,  edgecolor = ['#000000'], jitter = True, palette = ['#909090'], ax = ax1)\n",
    "\n",
    "sns.barplot('mask',y='hits',hue='condition',data =results_avg,\n",
    "              palette = 'deep',ax = ax1)\n",
    "\n",
    "ax1.set(ylabel='Classification Accuracy',xlabel='VTC', xticklabels=[])\n",
    "\n",
    "sns.despine()"
   ]
  },
  {
   "cell_type": "markdown",
   "metadata": {},
   "source": [
    "Now lets plot a confusion matrix to see which categories are most confusable"
   ]
  },
  {
   "cell_type": "code",
   "execution_count": 29,
   "metadata": {},
   "outputs": [
    {
     "data": {
      "text/html": [
       "<div>\n",
       "<style scoped>\n",
       "    .dataframe tbody tr th:only-of-type {\n",
       "        vertical-align: middle;\n",
       "    }\n",
       "\n",
       "    .dataframe tbody tr th {\n",
       "        vertical-align: top;\n",
       "    }\n",
       "\n",
       "    .dataframe thead th {\n",
       "        text-align: right;\n",
       "    }\n",
       "</style>\n",
       "<table border=\"1\" class=\"dataframe\">\n",
       "  <thead>\n",
       "    <tr style=\"text-align: right;\">\n",
       "      <th>choice</th>\n",
       "      <th>face</th>\n",
       "      <th>object</th>\n",
       "      <th>scene</th>\n",
       "    </tr>\n",
       "    <tr>\n",
       "      <th>condition</th>\n",
       "      <th></th>\n",
       "      <th></th>\n",
       "      <th></th>\n",
       "    </tr>\n",
       "  </thead>\n",
       "  <tbody>\n",
       "    <tr>\n",
       "      <th>face</th>\n",
       "      <td>0.85259</td>\n",
       "      <td>0.09655</td>\n",
       "      <td>0.05086</td>\n",
       "    </tr>\n",
       "    <tr>\n",
       "      <th>object</th>\n",
       "      <td>0.14828</td>\n",
       "      <td>0.77845</td>\n",
       "      <td>0.07328</td>\n",
       "    </tr>\n",
       "    <tr>\n",
       "      <th>scene</th>\n",
       "      <td>0.03879</td>\n",
       "      <td>0.03448</td>\n",
       "      <td>0.92672</td>\n",
       "    </tr>\n",
       "  </tbody>\n",
       "</table>\n",
       "</div>"
      ],
      "text/plain": [
       "choice        face   object    scene\n",
       "condition                           \n",
       "face       0.85259  0.09655  0.05086\n",
       "object     0.14828  0.77845  0.07328\n",
       "scene      0.03879  0.03448  0.92672"
      ]
     },
     "execution_count": 29,
     "metadata": {},
     "output_type": "execute_result"
    }
   ],
   "source": [
    "#Create confusion matrix and noramlize\n",
    "cm = pd.crosstab(results['condition'], results['choice'])\n",
    "cm_norm= cm / cm.sum(axis=1)\n",
    "cm_norm"
   ]
  },
  {
   "cell_type": "code",
   "execution_count": 34,
   "metadata": {},
   "outputs": [
    {
     "data": {
      "text/plain": [
       "<matplotlib.axes._subplots.AxesSubplot at 0x1c195c0320>"
      ]
     },
     "execution_count": 34,
     "metadata": {},
     "output_type": "execute_result"
    },
    {
     "data": {
      "image/png": "[encoded data removed]",
      "text/plain": [
       "<Figure size 432x288 with 2 Axes>"
      ]
     },
     "metadata": {
      "needs_background": "light"
     },
     "output_type": "display_data"
    }
   ],
   "source": [
    "sns.heatmap(cm_norm,linewidths=.5,vmin=0, vmax=.2)"
   ]
  }
 ],
 "metadata": {
  "kernelspec": {
   "display_name": "Python 3",
   "language": "python",
   "name": "python3"
  },
  "language_info": {
   "codemirror_mode": {
    "name": "ipython",
    "version": 3
   },
   "file_extension": ".py",
   "mimetype": "text/x-python",
   "name": "python",
   "nbconvert_exporter": "python",
   "pygments_lexer": "ipython3",
   "version": "3.6.8"
  }
 },
 "nbformat": 4,
 "nbformat_minor": 2
}
